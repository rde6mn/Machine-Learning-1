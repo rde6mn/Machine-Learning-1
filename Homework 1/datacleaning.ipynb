{
 "cells": [
  {
   "cell_type": "code",
   "execution_count": 1,
   "id": "935ae726",
   "metadata": {},
   "outputs": [],
   "source": [
    "import pandas as pd"
   ]
  },
  {
   "cell_type": "code",
   "execution_count": 2,
   "id": "d02b5382",
   "metadata": {},
   "outputs": [],
   "source": [
    "df = pd.read_csv('MSDS25_ Class Data (Responses) - Form Responses 1.csv')"
   ]
  },
  {
   "cell_type": "code",
   "execution_count": 3,
   "id": "25dd7b86",
   "metadata": {},
   "outputs": [
    {
     "data": {
      "text/html": [
       "<div>\n",
       "<style scoped>\n",
       "    .dataframe tbody tr th:only-of-type {\n",
       "        vertical-align: middle;\n",
       "    }\n",
       "\n",
       "    .dataframe tbody tr th {\n",
       "        vertical-align: top;\n",
       "    }\n",
       "\n",
       "    .dataframe thead th {\n",
       "        text-align: right;\n",
       "    }\n",
       "</style>\n",
       "<table border=\"1\" class=\"dataframe\">\n",
       "  <thead>\n",
       "    <tr style=\"text-align: right;\">\n",
       "      <th></th>\n",
       "      <th>Timestamp</th>\n",
       "      <th>phone_type</th>\n",
       "      <th>undergrad_major</th>\n",
       "      <th>num_cups</th>\n",
       "      <th>sleep_hrs</th>\n",
       "      <th>fav_sports</th>\n",
       "      <th>ds_skills</th>\n",
       "      <th>outdoor_hrs</th>\n",
       "      <th>ai_tools_use</th>\n",
       "      <th>ideal_temp</th>\n",
       "      <th>phone_hrs</th>\n",
       "      <th>music_while_studying</th>\n",
       "      <th>music_genre</th>\n",
       "      <th>num_states</th>\n",
       "      <th>fav_season</th>\n",
       "      <th>study_env</th>\n",
       "      <th>summer_desc</th>\n",
       "    </tr>\n",
       "  </thead>\n",
       "  <tbody>\n",
       "    <tr>\n",
       "      <th>0</th>\n",
       "      <td>8/27/2025 10:05:16</td>\n",
       "      <td>Mac</td>\n",
       "      <td>Applied &amp; Computational Mathematics</td>\n",
       "      <td>0</td>\n",
       "      <td>7</td>\n",
       "      <td>Football</td>\n",
       "      <td>7</td>\n",
       "      <td>2</td>\n",
       "      <td>Often</td>\n",
       "      <td>68</td>\n",
       "      <td>3 hours</td>\n",
       "      <td>Yes</td>\n",
       "      <td>Pop</td>\n",
       "      <td>39</td>\n",
       "      <td>Fall</td>\n",
       "      <td>Dorm</td>\n",
       "      <td>Crazy</td>\n",
       "    </tr>\n",
       "    <tr>\n",
       "      <th>1</th>\n",
       "      <td>8/27/2025 10:05:19</td>\n",
       "      <td>Mac</td>\n",
       "      <td>Economics</td>\n",
       "      <td>1-2</td>\n",
       "      <td>7</td>\n",
       "      <td>Soccer</td>\n",
       "      <td>6</td>\n",
       "      <td>1</td>\n",
       "      <td>Sometimes</td>\n",
       "      <td>75</td>\n",
       "      <td>5</td>\n",
       "      <td>Yes</td>\n",
       "      <td>EDM/House</td>\n",
       "      <td>20</td>\n",
       "      <td>Summer</td>\n",
       "      <td>Library</td>\n",
       "      <td>Unreal</td>\n",
       "    </tr>\n",
       "    <tr>\n",
       "      <th>2</th>\n",
       "      <td>8/27/2025 10:05:19</td>\n",
       "      <td>Mac</td>\n",
       "      <td>Industrial engineering</td>\n",
       "      <td>1 to 2</td>\n",
       "      <td>6</td>\n",
       "      <td>Basketball</td>\n",
       "      <td>6</td>\n",
       "      <td>3 to 4</td>\n",
       "      <td>Always</td>\n",
       "      <td>68</td>\n",
       "      <td>2 to 3</td>\n",
       "      <td>No</td>\n",
       "      <td>Techno</td>\n",
       "      <td>6</td>\n",
       "      <td>Fall</td>\n",
       "      <td>Home</td>\n",
       "      <td>Amazing</td>\n",
       "    </tr>\n",
       "    <tr>\n",
       "      <th>3</th>\n",
       "      <td>8/27/2025 10:05:24</td>\n",
       "      <td>Mac</td>\n",
       "      <td>Economics</td>\n",
       "      <td>1</td>\n",
       "      <td>7</td>\n",
       "      <td>Football</td>\n",
       "      <td>3</td>\n",
       "      <td>2</td>\n",
       "      <td>NaN</td>\n",
       "      <td>70</td>\n",
       "      <td>4</td>\n",
       "      <td>Yes</td>\n",
       "      <td>Rock</td>\n",
       "      <td>43</td>\n",
       "      <td>Spring</td>\n",
       "      <td>Outdoors</td>\n",
       "      <td>Interesting</td>\n",
       "    </tr>\n",
       "    <tr>\n",
       "      <th>4</th>\n",
       "      <td>8/27/2025 10:05:27</td>\n",
       "      <td>Mac</td>\n",
       "      <td>Biology</td>\n",
       "      <td>5</td>\n",
       "      <td>8</td>\n",
       "      <td>College football</td>\n",
       "      <td>5</td>\n",
       "      <td>3</td>\n",
       "      <td>Sometimes</td>\n",
       "      <td>65</td>\n",
       "      <td>5</td>\n",
       "      <td>Yes</td>\n",
       "      <td>Country/Folk</td>\n",
       "      <td>15</td>\n",
       "      <td>Fall</td>\n",
       "      <td>Library</td>\n",
       "      <td>Fantastic</td>\n",
       "    </tr>\n",
       "    <tr>\n",
       "      <th>...</th>\n",
       "      <td>...</td>\n",
       "      <td>...</td>\n",
       "      <td>...</td>\n",
       "      <td>...</td>\n",
       "      <td>...</td>\n",
       "      <td>...</td>\n",
       "      <td>...</td>\n",
       "      <td>...</td>\n",
       "      <td>...</td>\n",
       "      <td>...</td>\n",
       "      <td>...</td>\n",
       "      <td>...</td>\n",
       "      <td>...</td>\n",
       "      <td>...</td>\n",
       "      <td>...</td>\n",
       "      <td>...</td>\n",
       "      <td>...</td>\n",
       "    </tr>\n",
       "    <tr>\n",
       "      <th>85</th>\n",
       "      <td>8/27/2025 11:08:37</td>\n",
       "      <td>Mac</td>\n",
       "      <td>Statistics</td>\n",
       "      <td>100mg of caffeine</td>\n",
       "      <td>6</td>\n",
       "      <td>Men’s volleyball</td>\n",
       "      <td>2</td>\n",
       "      <td>0.5</td>\n",
       "      <td>Sometimes</td>\n",
       "      <td>71</td>\n",
       "      <td>4.5</td>\n",
       "      <td>Yes</td>\n",
       "      <td>Jazz-pop</td>\n",
       "      <td>17</td>\n",
       "      <td>Winter</td>\n",
       "      <td>Room or coffee shop</td>\n",
       "      <td>Adventurous</td>\n",
       "    </tr>\n",
       "    <tr>\n",
       "      <th>86</th>\n",
       "      <td>8/27/2025 11:08:37</td>\n",
       "      <td>Mac</td>\n",
       "      <td>Biomedical Engineering</td>\n",
       "      <td>1</td>\n",
       "      <td>7</td>\n",
       "      <td>Basketball</td>\n",
       "      <td>7</td>\n",
       "      <td>2</td>\n",
       "      <td>Often</td>\n",
       "      <td>55</td>\n",
       "      <td>2hr 59min</td>\n",
       "      <td>Yes</td>\n",
       "      <td>Country</td>\n",
       "      <td>13</td>\n",
       "      <td>Fall</td>\n",
       "      <td>coffee shop</td>\n",
       "      <td>chaotic</td>\n",
       "    </tr>\n",
       "    <tr>\n",
       "      <th>87</th>\n",
       "      <td>8/27/2025 11:08:42</td>\n",
       "      <td>Mac</td>\n",
       "      <td>Commerce</td>\n",
       "      <td>2</td>\n",
       "      <td>7</td>\n",
       "      <td>Basketball</td>\n",
       "      <td>5</td>\n",
       "      <td>4</td>\n",
       "      <td>Always</td>\n",
       "      <td>75</td>\n",
       "      <td>7</td>\n",
       "      <td>No</td>\n",
       "      <td>R&amp;B</td>\n",
       "      <td>18</td>\n",
       "      <td>Summer</td>\n",
       "      <td>Library</td>\n",
       "      <td>Busy</td>\n",
       "    </tr>\n",
       "    <tr>\n",
       "      <th>88</th>\n",
       "      <td>8/27/2025 11:08:44</td>\n",
       "      <td>Mac</td>\n",
       "      <td>Applied Statistics</td>\n",
       "      <td>0</td>\n",
       "      <td>7</td>\n",
       "      <td>NaN</td>\n",
       "      <td>5</td>\n",
       "      <td>1</td>\n",
       "      <td>Sometimes</td>\n",
       "      <td>65</td>\n",
       "      <td>8</td>\n",
       "      <td>Yes</td>\n",
       "      <td>All</td>\n",
       "      <td>16</td>\n",
       "      <td>Summer</td>\n",
       "      <td>quiet, indoors, sunny</td>\n",
       "      <td>Busy</td>\n",
       "    </tr>\n",
       "    <tr>\n",
       "      <th>89</th>\n",
       "      <td>8/27/2025 11:09:56</td>\n",
       "      <td>Mac</td>\n",
       "      <td>Chemical Engineering</td>\n",
       "      <td>4 cups of tea in the morning per day</td>\n",
       "      <td>7 hours</td>\n",
       "      <td>Basketball</td>\n",
       "      <td>3 or 4</td>\n",
       "      <td>1 hour</td>\n",
       "      <td>Sometimes</td>\n",
       "      <td>74F</td>\n",
       "      <td>1 hour 46 minutes</td>\n",
       "      <td>No</td>\n",
       "      <td>Classical piano music and pop music</td>\n",
       "      <td>3</td>\n",
       "      <td>Fall</td>\n",
       "      <td>My own apartment or somewhere quiet on campus</td>\n",
       "      <td>Great</td>\n",
       "    </tr>\n",
       "  </tbody>\n",
       "</table>\n",
       "<p>90 rows × 17 columns</p>\n",
       "</div>"
      ],
      "text/plain": [
       "             Timestamp phone_type                      undergrad_major  \\\n",
       "0   8/27/2025 10:05:16        Mac  Applied & Computational Mathematics   \n",
       "1   8/27/2025 10:05:19        Mac                            Economics   \n",
       "2   8/27/2025 10:05:19        Mac               Industrial engineering   \n",
       "3   8/27/2025 10:05:24        Mac                            Economics   \n",
       "4   8/27/2025 10:05:27        Mac                              Biology   \n",
       "..                 ...        ...                                  ...   \n",
       "85  8/27/2025 11:08:37        Mac                           Statistics   \n",
       "86  8/27/2025 11:08:37        Mac               Biomedical Engineering   \n",
       "87  8/27/2025 11:08:42        Mac                            Commerce    \n",
       "88  8/27/2025 11:08:44        Mac                   Applied Statistics   \n",
       "89  8/27/2025 11:09:56        Mac                Chemical Engineering    \n",
       "\n",
       "                                num_cups sleep_hrs        fav_sports  \\\n",
       "0                                      0         7          Football   \n",
       "1                                    1-2         7            Soccer   \n",
       "2                                 1 to 2         6        Basketball   \n",
       "3                                      1         7          Football   \n",
       "4                                      5         8  College football   \n",
       "..                                   ...       ...               ...   \n",
       "85                     100mg of caffeine         6  Men’s volleyball   \n",
       "86                                     1         7        Basketball   \n",
       "87                                     2         7        Basketball   \n",
       "88                                     0         7               NaN   \n",
       "89  4 cups of tea in the morning per day   7 hours        Basketball   \n",
       "\n",
       "   ds_skills outdoor_hrs ai_tools_use ideal_temp           phone_hrs  \\\n",
       "0          7           2        Often         68             3 hours   \n",
       "1          6           1    Sometimes         75                   5   \n",
       "2          6      3 to 4       Always         68              2 to 3   \n",
       "3          3           2          NaN         70                   4   \n",
       "4          5           3    Sometimes         65                   5   \n",
       "..       ...         ...          ...        ...                 ...   \n",
       "85         2         0.5    Sometimes         71                 4.5   \n",
       "86         7           2        Often         55           2hr 59min   \n",
       "87         5           4       Always         75                   7   \n",
       "88         5           1    Sometimes         65                   8   \n",
       "89    3 or 4      1 hour    Sometimes        74F  1 hour 46 minutes    \n",
       "\n",
       "   music_while_studying                           music_genre  num_states  \\\n",
       "0                   Yes                                   Pop          39   \n",
       "1                   Yes                             EDM/House          20   \n",
       "2                    No                                Techno           6   \n",
       "3                   Yes                                  Rock          43   \n",
       "4                   Yes                          Country/Folk          15   \n",
       "..                  ...                                   ...         ...   \n",
       "85                  Yes                              Jazz-pop          17   \n",
       "86                  Yes                               Country          13   \n",
       "87                   No                                   R&B          18   \n",
       "88                  Yes                                   All          16   \n",
       "89                   No  Classical piano music and pop music            3   \n",
       "\n",
       "   fav_season                                       study_env  summer_desc  \n",
       "0        Fall                                            Dorm        Crazy  \n",
       "1      Summer                                         Library       Unreal  \n",
       "2        Fall                                            Home      Amazing  \n",
       "3      Spring                                        Outdoors  Interesting  \n",
       "4        Fall                                         Library    Fantastic  \n",
       "..        ...                                             ...          ...  \n",
       "85     Winter                             Room or coffee shop  Adventurous  \n",
       "86       Fall                                     coffee shop      chaotic  \n",
       "87     Summer                                         Library        Busy   \n",
       "88     Summer                           quiet, indoors, sunny         Busy  \n",
       "89       Fall  My own apartment or somewhere quiet on campus         Great  \n",
       "\n",
       "[90 rows x 17 columns]"
      ]
     },
     "execution_count": 3,
     "metadata": {},
     "output_type": "execute_result"
    }
   ],
   "source": [
    "df"
   ]
  },
  {
   "cell_type": "code",
   "execution_count": 5,
   "id": "92db38ad",
   "metadata": {},
   "outputs": [],
   "source": [
    "df['phone_type'] = df['phone_type'].replace('Mac', 'iPhone')\n"
   ]
  },
  {
   "cell_type": "code",
   "execution_count": 7,
   "id": "e8a60cc8",
   "metadata": {},
   "outputs": [
    {
     "data": {
      "text/plain": [
       "undergrad_major\n",
       "Statistics                                                     11\n",
       "Computer Science                                                6\n",
       "Economics                                                       6\n",
       "Applied Statistics                                              4\n",
       "Commerce                                                        3\n",
       "Computer Science                                                3\n",
       "Accounting                                                      2\n",
       "Applied Statistics and Economics                                2\n",
       "Public Policy                                                   2\n",
       "Financial Engineering                                           2\n",
       "Psychology                                                      2\n",
       "Biology                                                         2\n",
       "Cognitive Science                                               1\n",
       "Biomedical Engineering                                          1\n",
       "Applied computer science                                        1\n",
       "Industrial engineering                                          1\n",
       "International Affairs                                           1\n",
       "Information Science                                             1\n",
       "Game Design & Development                                       1\n",
       "Astronautical Engineering                                       1\n",
       "Business (Marketing & Management)                               1\n",
       "DS                                                              1\n",
       "Commerce                                                        1\n",
       "Electrical Engineering                                          1\n",
       "Applied & Computational Mathematics                             1\n",
       "Special education                                               1\n",
       "Applied Statistics at UVA                                       1\n",
       "Environmental Science and Environmental Thought & Practice      1\n",
       "History/ American Studies                                       1\n",
       "Fine Arts                                                       1\n",
       "Mechanical engineering                                          1\n",
       "Anthropology                                                    1\n",
       "Data Science                                                    1\n",
       "Systems Engineering                                             1\n",
       "Sport Analytics                                                 1\n",
       "Chemical Engineering                                            1\n",
       "Statistics                                                      1\n",
       "Environmental Data Science                                      1\n",
       "Systems Engineering                                             1\n",
       "Astrophysics                                                    1\n",
       "Computer Science and Economics                                  1\n",
       "Math                                                            1\n",
       "digital narrative and interactive design                        1\n",
       "Statistics with a concentration in data science                 1\n",
       "Data science                                                    1\n",
       "Industrial and Systems Engineering                              1\n",
       "Plant Biology                                                   1\n",
       "Electrical engineering                                          1\n",
       "Foreign Affairs                                                 1\n",
       "Applied math                                                    1\n",
       "Computer science                                                1\n",
       "Business analytics                                              1\n",
       "Computer Science, Data Science                                  1\n",
       "Physics                                                         1\n",
       "Computer Engineering                                            1\n",
       "Biomedical Engineering                                          1\n",
       "Chemical Engineering                                            1\n",
       "Name: count, dtype: int64"
      ]
     },
     "execution_count": 7,
     "metadata": {},
     "output_type": "execute_result"
    }
   ],
   "source": [
    "df['undergrad_major'].value_counts()"
   ]
  },
  {
   "cell_type": "code",
   "execution_count": null,
   "id": "04ab38fa",
   "metadata": {},
   "outputs": [],
   "source": [
    "df['general_area_of_study'] = df['undergrad_major'].copy()"
   ]
  },
  {
   "cell_type": "code",
   "execution_count": 169,
   "id": "01e58cb4",
   "metadata": {},
   "outputs": [
    {
     "data": {
      "text/plain": [
       "general_area_of_study\n",
       "Math                   22\n",
       "Commerce               16\n",
       "Computer Science       13\n",
       "Engineering            10\n",
       "Science                 8\n",
       "Dual Major              6\n",
       "Policy                  4\n",
       "Data Science            4\n",
       "Humanities              4\n",
       "Systems Engineering     3\n",
       "Name: count, dtype: int64"
      ]
     },
     "execution_count": 169,
     "metadata": {},
     "output_type": "execute_result"
    }
   ],
   "source": [
    "df['general_area_of_study'].value_counts()"
   ]
  },
  {
   "cell_type": "code",
   "execution_count": 168,
   "id": "140707d5",
   "metadata": {},
   "outputs": [],
   "source": [
    "df['general_area_of_study'].replace('Chemical Engineering', 'Engineering', inplace=True)"
   ]
  },
  {
   "cell_type": "code",
   "execution_count": 103,
   "id": "31cb585d",
   "metadata": {},
   "outputs": [],
   "source": [
    "df['undergrad_major'].replace('Computer science ', 'Computer Science', inplace=True)"
   ]
  },
  {
   "cell_type": "code",
   "execution_count": 282,
   "id": "0e18bb27",
   "metadata": {},
   "outputs": [
    {
     "data": {
      "image/png": "[encoded data removed]",
      "text/plain": [
       "<Figure size 1200x700 with 1 Axes>"
      ]
     },
     "metadata": {},
     "output_type": "display_data"
    }
   ],
   "source": [
    "import matplotlib.pyplot as plt\n",
    "import pandas as pd\n",
    "\n",
    "# Crosstab\n",
    "counts = pd.crosstab(df['general_area_of_study'], df['undergrad_major'])\n",
    "\n",
    "# Sort bars by total height\n",
    "counts = counts.loc[counts.sum(axis=1).sort_values(ascending=False).index]\n",
    "\n",
    "# Plot stacked bar with dark blue color and black edges\n",
    "ax = counts.plot(\n",
    "    kind='bar',\n",
    "    stacked=True,\n",
    "    figsize=(12,7),\n",
    "    color='darkorange',\n",
    "    edgecolor='black',   # <-- adds borders\n",
    "    linewidth=1,\n",
    "    legend=False\n",
    ")\n",
    "\n",
    "# Add labels inside bars\n",
    "for container in ax.containers:\n",
    "    for bar in container:\n",
    "        height = bar.get_height()\n",
    "        if height > 0:\n",
    "            x = bar.get_x() + bar.get_width() / 2\n",
    "            y = bar.get_y() + height / 2\n",
    "            ax.text(x, y, container.get_label(), ha='center', va='center', fontsize=6, color='black')\n",
    "\n",
    "plt.title(\"General Area of Study by Undergraduate Major\", fontsize=16)\n",
    "plt.xlabel(\"General Area of Study\", fontsize=12)\n",
    "plt.ylabel(\"Number of Students\", fontsize=12)\n",
    "plt.xticks(rotation=45, ha='right')\n",
    "plt.tight_layout()\n",
    "plt.show()\n"
   ]
  },
  {
   "cell_type": "code",
   "execution_count": 281,
   "id": "4ba45d25",
   "metadata": {},
   "outputs": [],
   "source": [
    "df.to_csv('major_cleaned.csv', index=False)"
   ]
  },
  {
   "cell_type": "code",
   "execution_count": 264,
   "id": "d8f8e461",
   "metadata": {},
   "outputs": [
    {
     "name": "stderr",
     "output_type": "stream",
     "text": [
      "C:\\Users\\school\\AppData\\Local\\Temp\\ipykernel_47580\\337040807.py:1: FutureWarning: A value is trying to be set on a copy of a DataFrame or Series through chained assignment using an inplace method.\n",
      "The behavior will change in pandas 3.0. This inplace method will never work because the intermediate object on which we are setting values always behaves as a copy.\n",
      "\n",
      "For example, when doing 'df[col].method(value, inplace=True)', try using 'df.method({col: value}, inplace=True)' or df[col] = df[col].method(value) instead, to perform the operation inplace on the original object.\n",
      "\n",
      "\n",
      "  df['undergrad_major'].replace('Applied Statistics, Economics', 'Statistics, Economics', inplace=True)\n"
     ]
    }
   ],
   "source": [
    "df['undergrad_major'].replace('Applied Statistics, Economics', 'Statistics, Economics', inplace=True)"
   ]
  },
  {
   "cell_type": "code",
   "execution_count": 271,
   "id": "2a11b14d",
   "metadata": {},
   "outputs": [],
   "source": [
    "df.loc[\n",
    "    (df['general_area_of_study'] == \"Systems Engineering\") & \n",
    "    (df['undergrad_major'] == \"Industrial and Systems Engineering \") ,\n",
    "    'general_area_of_study'\n",
    "] = \"Engineering\"\n"
   ]
  },
  {
   "cell_type": "code",
   "execution_count": null,
   "id": "30e65098",
   "metadata": {},
   "outputs": [],
   "source": [
    "# Find the matching rows\n",
    "mask = (df['general_area_of_study'] == \"Computer Science\") & (df['undergrad_major'] == \"Computer Science\")\n",
    "\n",
    "# Get the index of the first matching row\n",
    "idx = df[mask].index[0]\n",
    "\n",
    "# Update only that one row\n",
    "df.at[idx, 'undergrad_major'] = \"Digital Narrative and Interactive Design\"\n"
   ]
  },
  {
   "cell_type": "code",
   "execution_count": 244,
   "id": "07bd52a2",
   "metadata": {},
   "outputs": [],
   "source": [
    "df.loc[\n",
    "    (df['undergrad_major'] == \"Copmuter Science\") &\n",
    "    (df['general_area_of_study'] == \"Computer Science\") &\n",
    "    (df['fav_sports'] == \"basketball \") &\n",
    "    (df['outdoor_hrs'] == \"\"),\n",
    "    'undergrad_major'\n",
    "] = \"Digital Narrative and Interactive Design\"\n"
   ]
  },
  {
   "cell_type": "code",
   "execution_count": 2,
   "id": "75734172",
   "metadata": {},
   "outputs": [],
   "source": [
    "df = pd.read_csv('major_cleaned.csv')"
   ]
  },
  {
   "cell_type": "code",
   "execution_count": 4,
   "id": "775c12cf",
   "metadata": {},
   "outputs": [],
   "source": [
    "import pandas as pd\n",
    "\n",
    "# Ensure Timestamp is a datetime\n",
    "df['Timestamp'] = pd.to_datetime(df['Timestamp'], errors='coerce')\n",
    "\n",
    "# Define sessions\n",
    "def assign_session(ts):\n",
    "    if pd.isna(ts):\n",
    "        return None\n",
    "    if ts.hour == 10:   # between 10:00 and 10:59\n",
    "        return \"Session 1\"\n",
    "    elif ts.hour == 11: # between 11:00 and 11:59\n",
    "        return \"Session 2\"\n",
    "    else:\n",
    "        return None  # or \"Other\" if you want to track outside times\n",
    "\n",
    "df['class_session'] = df['Timestamp'].apply(assign_session)\n"
   ]
  },
  {
   "cell_type": "code",
   "execution_count": 11,
   "id": "81ac18f2",
   "metadata": {},
   "outputs": [
    {
     "data": {
      "text/plain": [
       "sleep_hrs\n",
       "7                         31\n",
       "8                         23\n",
       "6                          7\n",
       "9                          6\n",
       "7-8                        3\n",
       "8-10                       2\n",
       "4                          2\n",
       "6-7                        2\n",
       "8.5                        2\n",
       "10                         1\n",
       "6-8                        1\n",
       "8h                         1\n",
       "6.5                        1\n",
       "6,7                        1\n",
       "Not enough.                1\n",
       "6-7:30                     1\n",
       "Not enough 🥺 maybe 4-6     1\n",
       "7-9                        1\n",
       "5.5                        1\n",
       "7.5                        1\n",
       "7 hours                    1\n",
       "Name: count, dtype: int64"
      ]
     },
     "execution_count": 11,
     "metadata": {},
     "output_type": "execute_result"
    }
   ],
   "source": [
    "df['sleep_hrs'].value_counts()"
   ]
  },
  {
   "cell_type": "code",
   "execution_count": 8,
   "id": "bbc153dc",
   "metadata": {},
   "outputs": [],
   "source": [
    "import pandas as pd\n",
    "import re\n",
    "import numpy as np\n",
    "\n",
    "def parse_num_cups(val):\n",
    "    if pd.isna(val):\n",
    "        return None, None, None\n",
    "\n",
    "    s = str(val).strip().lower()\n",
    "\n",
    "    # Direct numeric (int or float)\n",
    "    try:\n",
    "        num = float(s)\n",
    "        return num, num, num\n",
    "    except ValueError:\n",
    "        pass\n",
    "\n",
    "    # Handle ranges like \"1-2\" or \"0-1\"\n",
    "    if re.match(r'^\\d+(\\.\\d+)?\\s*-\\s*\\d+(\\.\\d+)?$', s):\n",
    "        lo, hi = re.split(r'-', s)\n",
    "        lo, hi = float(lo.strip()), float(hi.strip())\n",
    "        return lo, hi, (lo + hi) / 2\n",
    "\n",
    "    # Handle \"1 to 2\"\n",
    "    if re.match(r'^\\d+(\\.\\d+)?\\s*to\\s*\\d+(\\.\\d+)?$', s):\n",
    "        lo, hi = re.split(r'to', s)\n",
    "        lo, hi = float(lo.strip()), float(hi.strip())\n",
    "        return lo, hi, (lo + hi) / 2\n",
    "\n",
    "    # Handle word \"one\"\n",
    "    if \"one\" == s:\n",
    "        return 1, 1, 1\n",
    "\n",
    "    # Handle known text cases\n",
    "    if \"2 (coffee)\" in s or \"2.5\" in s:\n",
    "        return 2.5, 2.5, 2.5\n",
    "    if \"4 cups\" in s:\n",
    "        return 4, 4, 4\n",
    "    if \"100mg\" in s:\n",
    "        return 1, 1, 1  # ambiguous caffeine unit\n",
    "    if \"usually 0\" in s:\n",
    "        return 0, 1, 0.5\n",
    "    if \"soda girl\" in s:  # vague, treat as 0\n",
    "        return 0, 0, 0\n",
    "\n",
    "    # Catch all: return None\n",
    "    return None, None, None\n",
    "\n",
    "# Apply cleaning\n",
    "df[['min_num_cups', 'max_num_cups', 'avg_num_cups']] = df['num_cups'].apply(\n",
    "    lambda x: pd.Series(parse_num_cups(x))\n",
    ")\n"
   ]
  },
  {
   "cell_type": "code",
   "execution_count": 9,
   "id": "3fc747c7",
   "metadata": {},
   "outputs": [],
   "source": [
    "df.to_csv('cups_cleaned.csv', index=False)"
   ]
  },
  {
   "cell_type": "code",
   "execution_count": 13,
   "id": "8034b57f",
   "metadata": {},
   "outputs": [],
   "source": [
    "import re\n",
    "import numpy as np\n",
    "import pandas as pd\n",
    "\n",
    "def parse_sleep(val):\n",
    "    if pd.isna(val):\n",
    "        return None, None, None\n",
    "\n",
    "    s = str(val).strip().lower()\n",
    "\n",
    "    # Direct numeric (int or float)\n",
    "    try:\n",
    "        num = float(s)\n",
    "        return num, num, num\n",
    "    except ValueError:\n",
    "        pass\n",
    "\n",
    "    # Handle decimals like \"8.5\", \"6.5\", \"7.5\"\n",
    "    if re.match(r'^\\d+(?:\\.\\d+)?$', s):\n",
    "        num = float(s)\n",
    "        return num, num, num\n",
    "\n",
    "    # Handle simple ranges like \"7-8\", \"8-10\", \"6-8\", \"7-9\"\n",
    "    if re.match(r'^\\d+(?:\\.\\d+)?\\s*-\\s*\\d+(?:\\.\\d+)?$', s):\n",
    "        lo, hi = re.split(r'-', s)\n",
    "        lo, hi = float(lo.strip()), float(hi.strip())\n",
    "        return lo, hi, (lo + hi) / 2\n",
    "\n",
    "    # Handle \"Xh\" or \"X hours\"\n",
    "    if re.match(r'^\\d+(?:\\.\\d+)?\\s*h(ours)?$', s):\n",
    "        num = float(re.findall(r'\\d+(?:\\.\\d+)?', s)[0])\n",
    "        return num, num, num\n",
    "\n",
    "    # Handle comma-separated like \"6,7\"\n",
    "    if re.match(r'^\\d+(?:\\.\\d+)?\\s*,\\s*\\d+(?:\\.\\d+)?$', s):\n",
    "        nums = [float(x) for x in s.split(',')]\n",
    "        return min(nums), max(nums), np.mean(nums)\n",
    "\n",
    "    # Handle \"6-7:30\" → 6 to 7.5\n",
    "    if \"7:30\" in s:\n",
    "        return 6, 7.5, (6+7.5)/2\n",
    "\n",
    "    # Handle vague answers\n",
    "    if \"not enough\" in s and \"4-6\" in s:\n",
    "        return 4, 6, 5\n",
    "    if \"not enough\" in s:\n",
    "        return None, None, None  # too vague\n",
    "\n",
    "    # Catch all → None\n",
    "    return None, None, None\n",
    "\n",
    "df[['min_sleep_hrs', 'max_sleep_hrs', 'avg_sleep_hrs']] = df['sleep_hrs'].apply(\n",
    "    lambda x: pd.Series(parse_sleep(x))\n",
    ")\n",
    "\n"
   ]
  },
  {
   "cell_type": "code",
   "execution_count": 16,
   "id": "4e0cf58c",
   "metadata": {},
   "outputs": [
    {
     "data": {
      "text/plain": [
       "avg_sleep_hrs\n",
       "7.00     33\n",
       "8.00     25\n",
       "9.00      8\n",
       "6.00      7\n",
       "7.50      4\n",
       "6.50      4\n",
       "4.00      2\n",
       "8.50      2\n",
       "10.00     1\n",
       "6.75      1\n",
       "5.00      1\n",
       "5.50      1\n",
       "Name: count, dtype: int64"
      ]
     },
     "execution_count": 16,
     "metadata": {},
     "output_type": "execute_result"
    }
   ],
   "source": [
    "df['avg_sleep_hrs'].value_counts()"
   ]
  },
  {
   "cell_type": "code",
   "execution_count": 17,
   "id": "b41b37e1",
   "metadata": {},
   "outputs": [],
   "source": [
    "df.to_csv('sleep_cleaned.csv', index=False)"
   ]
  },
  {
   "cell_type": "code",
   "execution_count": 53,
   "id": "3cc8a964",
   "metadata": {},
   "outputs": [
    {
     "data": {
      "text/plain": [
       "Index(['Timestamp', 'phone_type', 'undergrad_major', 'num_cups', 'sleep_hrs',\n",
       "       'fav_sports', 'ds_skills', 'outdoor_hrs', 'ai_tools_use', 'ideal_temp',\n",
       "       'phone_hrs', 'music_while_studying', 'music_genre', 'num_states',\n",
       "       'fav_season', 'study_env', 'summer_desc', 'general_area_of_study',\n",
       "       'class_session', 'min_num_cups', 'max_num_cups', 'avg_num_cups',\n",
       "       'min_sleep_hrs', 'max_sleep_hrs', 'avg_sleep_hrs'],\n",
       "      dtype='object')"
      ]
     },
     "execution_count": 53,
     "metadata": {},
     "output_type": "execute_result"
    }
   ],
   "source": [
    "df.columns"
   ]
  },
  {
   "cell_type": "code",
   "execution_count": 31,
   "id": "ed52acdc",
   "metadata": {},
   "outputs": [],
   "source": [
    "import pandas as pd\n",
    "import numpy as np\n",
    "\n",
    "# Example mapping for single-sport standardization\n",
    "single_sport_map = {\n",
    "    \"Basketball\": \"Basketball\",\n",
    "    \"basketball\": \"Basketball\",\n",
    "    \n",
    "    \"Football\": \"Football\",\n",
    "    \"NFL Football\": \"Football\",\n",
    "\n",
    "    \"Soccer\": \"Soccer\",\n",
    "    \"soccer\": \"Soccer\",\n",
    "\n",
    "    \"Baseball\": \"Baseball\",\n",
    "    \"Tennis\": \"Tennis\",\n",
    "    \n",
    "    \"Hockey\": \"Hockey\",\n",
    "    \"hockey (if i ever watch sports)\": \"Hockey\",\n",
    "\n",
    "    \"Formula 1\": \"Formula 1\",\n",
    "    \"F1\": \"Formula 1\",\n",
    "    \"formula 1\": \"Formula 1\",\n",
    "\n",
    "    \"Track & Field\": \"Track & Field\",\n",
    "    \"Track n field\": \"Track & Field\",\n",
    "\n",
    "    \"Snooker\": \"Snooker\",\n",
    "    \"Golf\": \"Golf\",\n",
    "    \"Volleyball\": \"Volleyball\",\n",
    "    \"Men’s volleyball\": \"Volleyball\",\n",
    "\n",
    "    \"Hurling\": \"Hurling\",\n",
    "    \"Cornhole\": \"Cornhole\",\n",
    "    \"Olympic Women’s Gymnastics\": \"Olympic Women’s Gymnastics\",\n",
    "    \"Supercross\": \"Supercross\",\n",
    "}\n",
    "\n",
    "# Values that should become None\n",
    "none_values = {\n",
    "    \"I don’t usually watch sports\",\n",
    "    \"None I watch reality tv\",\n",
    "    \"I rarely watch TV but enjoy video games 😁\",\n",
    "    np.nan\n",
    "}\n",
    "\n",
    "def clean_sports(val):\n",
    "    if pd.isna(val):\n",
    "        return None\n",
    "    \n",
    "    # Normalize spacing/case\n",
    "    v = str(val).strip()\n",
    "\n",
    "    # Handle None-like responses\n",
    "    if v in none_values:\n",
    "        return None\n",
    "\n",
    "    # Handle multi-sports with \"or\", \"and\"\n",
    "    if \" or \" in v.lower() or \" and \" in v.lower():\n",
    "        parts = (\n",
    "            v.replace(\"(close)\", \"\")\n",
    "             .replace(\" or \", \",\")\n",
    "             .replace(\" and \", \",\")\n",
    "             .split(\",\")\n",
    "        )\n",
    "        cleaned_parts = []\n",
    "        for p in parts:\n",
    "            p = p.strip()\n",
    "            if p in single_sport_map:\n",
    "                cleaned_parts.append(single_sport_map[p])\n",
    "            elif p:  # keep unknowns as-is\n",
    "                cleaned_parts.append(p)\n",
    "        return cleaned_parts if cleaned_parts else None\n",
    "\n",
    "    # Single-value mapping\n",
    "    if v in single_sport_map:\n",
    "        return single_sport_map[v]\n",
    "\n",
    "    # Fallback: leave value as-is\n",
    "    return v\n",
    "\n",
    "# Apply cleaning\n",
    "df[\"fav_sports\"] = df[\"fav_sports\"].apply(clean_sports)\n"
   ]
  },
  {
   "cell_type": "code",
   "execution_count": 38,
   "id": "4c5a323e",
   "metadata": {},
   "outputs": [],
   "source": [
    "def fix_beach_volleyball(val):\n",
    "    if isinstance(val, list):\n",
    "        return [\"Volleyball\" if s.lower() == \"beach volleyball\" else s for s in val]\n",
    "    return val\n",
    "\n",
    "df['fav_sports'] = df['fav_sports'].apply(fix_beach_volleyball)\n"
   ]
  },
  {
   "cell_type": "code",
   "execution_count": 40,
   "id": "bd221265",
   "metadata": {},
   "outputs": [],
   "source": [
    "df.to_csv('sport_cleaned.csv', index=False)"
   ]
  },
  {
   "cell_type": "code",
   "execution_count": 43,
   "id": "d9a02138",
   "metadata": {},
   "outputs": [
    {
     "data": {
      "text/plain": [
       "ds_skills\n",
       "6         19\n",
       "5         13\n",
       "7         12\n",
       "8         12\n",
       "3          8\n",
       "4          6\n",
       "6.5        5\n",
       "2          5\n",
       "7.5        3\n",
       "1          2\n",
       "10         2\n",
       "9          2\n",
       "3 or 4     1\n",
       "Name: count, dtype: int64"
      ]
     },
     "execution_count": 43,
     "metadata": {},
     "output_type": "execute_result"
    }
   ],
   "source": [
    "df['ds_skills'].value_counts()"
   ]
  },
  {
   "cell_type": "code",
   "execution_count": 44,
   "id": "c8805bc1",
   "metadata": {},
   "outputs": [],
   "source": [
    "df['ds_skills'] = df['ds_skills'].replace('3 or 4', '3.5')"
   ]
  },
  {
   "cell_type": "code",
   "execution_count": 45,
   "id": "2f92c11a",
   "metadata": {},
   "outputs": [],
   "source": [
    "#change ds_skills to numeric\n",
    "df['ds_skills'] = pd.to_numeric(df['ds_skills'], errors='coerce')"
   ]
  },
  {
   "cell_type": "code",
   "execution_count": 50,
   "id": "2f0ff6de",
   "metadata": {},
   "outputs": [],
   "source": [
    "import re\n",
    "import numpy as np\n",
    "\n",
    "def clean_outdoor_hrs(val):\n",
    "    if pd.isna(val):\n",
    "        return np.nan\n",
    "    \n",
    "    s = str(val).strip().lower()\n",
    "\n",
    "    # Handle obvious \"no outdoors\" style answers\n",
    "    if \"few\" in s or \"possible\" in s:\n",
    "        return 0.0\n",
    "\n",
    "    # Remove units like \"h\", \"hour\", \"hours\", \"ish\"\n",
    "    s = re.sub(r\"(hours?|h|ish)\", \"\", s).strip()\n",
    "\n",
    "    # Handle comma or \"to\" ranges (like \"1,2\", \"3 to 4\")\n",
    "    if \"-\" in s or \"to\" in s or \",\" in s:\n",
    "        parts = re.split(r\"[-to,]\", s)\n",
    "        try:\n",
    "            nums = [float(p.strip()) for p in parts if p.strip() != \"\"]\n",
    "            return sum(nums) / len(nums) if nums else np.nan\n",
    "        except:\n",
    "            return np.nan\n",
    "\n",
    "    # Try converting directly\n",
    "    try:\n",
    "        return float(s)\n",
    "    except:\n",
    "        return np.nan\n",
    "\n",
    "df['outdoor_hrs'] = df['outdoor_hrs'].apply(clean_outdoor_hrs)\n"
   ]
  },
  {
   "cell_type": "code",
   "execution_count": 52,
   "id": "2d561ccb",
   "metadata": {},
   "outputs": [],
   "source": [
    "df.to_csv('outdoor_cleaned.csv', index=False)"
   ]
  },
  {
   "cell_type": "code",
   "execution_count": 55,
   "id": "e61c5847",
   "metadata": {},
   "outputs": [],
   "source": [
    "# Standardize capitalization\n",
    "df['ai_tools_use'] = df['ai_tools_use'].str.strip().str.capitalize()\n"
   ]
  },
  {
   "cell_type": "code",
   "execution_count": 58,
   "id": "114c2cc0",
   "metadata": {},
   "outputs": [],
   "source": [
    "import re\n",
    "import numpy as np\n",
    "\n",
    "def clean_ideal_temp(val):\n",
    "    if pd.isna(val):\n",
    "        return np.nan\n",
    "\n",
    "    s = str(val).strip().lower()\n",
    "\n",
    "    # Remove units\n",
    "    s = s.replace(\"degrees\", \"\").replace(\"f\", \"\").replace(\"°\", \"\").strip()\n",
    "\n",
    "    # Handle ranges like \"mid to high 70s\" → assume 70-79\n",
    "    if \"mid to high 70s\" in s:\n",
    "        return (75 + 79) / 2  # approximate midpoint\n",
    "\n",
    "    # Handle simple ranges with \"-\" or \"to\"\n",
    "    if \"-\" in s or \"to\" in s:\n",
    "        parts = re.split(r\"[-to]\", s)\n",
    "        try:\n",
    "            nums = [float(p.strip()) for p in parts if p.strip() != \"\"]\n",
    "            return sum(nums) / len(nums) if nums else np.nan\n",
    "        except:\n",
    "            return np.nan\n",
    "\n",
    "    # Try converting directly to float\n",
    "    try:\n",
    "        return float(s)\n",
    "    except:\n",
    "        return np.nan\n",
    "\n",
    "# Apply cleaning in-place\n",
    "df['ideal_temp'] = df['ideal_temp'].apply(clean_ideal_temp)\n"
   ]
  },
  {
   "cell_type": "code",
   "execution_count": 60,
   "id": "99673546",
   "metadata": {},
   "outputs": [],
   "source": [
    "df.to_csv('temp_cleaned.csv', index=False)"
   ]
  },
  {
   "cell_type": "code",
   "execution_count": 63,
   "id": "f1b001b8",
   "metadata": {},
   "outputs": [],
   "source": [
    "import re\n",
    "import numpy as np\n",
    "\n",
    "def parse_time_string(s):\n",
    "    \"\"\"Convert messy time strings into decimal hours.\"\"\"\n",
    "    s = str(s).lower().strip()\n",
    "    \n",
    "    # Handle NA\n",
    "    if s in [\"nan\", \"\", \"none\"]:\n",
    "        return np.nan\n",
    "\n",
    "    # Ranges: \"2-3\", \"2 to 3\", \"probably 4-6\"\n",
    "    if \"-\" in s or \"to\" in s:\n",
    "        parts = re.split(r\"[-to]\", s)\n",
    "        try:\n",
    "            nums = [float(p.strip().replace(\"hrs\",\"\").replace(\"h\",\"\")) for p in parts if p.strip()]\n",
    "            return sum(nums)/len(nums) if nums else np.nan\n",
    "        except:\n",
    "            return np.nan\n",
    "\n",
    "    # hh:mm format like \"5:45\"\n",
    "    if \":\" in s:\n",
    "        try:\n",
    "            h, m = s.split(\":\")\n",
    "            return float(h) + float(m)/60\n",
    "        except:\n",
    "            return np.nan\n",
    "\n",
    "    # hours and minutes written out\n",
    "    match = re.match(r\"(?:(\\d+(?:\\.\\d+)?)\\s*hours?)?\\s*(?:and)?\\s*(\\d+)\\s*minutes?\", s)\n",
    "    if match:\n",
    "        h = float(match.group(1)) if match.group(1) else 0\n",
    "        m = float(match.group(2))\n",
    "        return h + m/60\n",
    "\n",
    "    # e.g. \"2hr 59min\"\n",
    "    match = re.match(r\"(\\d+)\\s*hr[s]?\\s*(\\d+)\\s*min\", s)\n",
    "    if match:\n",
    "        return float(match.group(1)) + float(match.group(2))/60\n",
    "\n",
    "    # decimal numbers (2.5, 4.5, 1.25)\n",
    "    try:\n",
    "        return float(s.replace(\"hrs\",\"\").replace(\"hr\",\"\").replace(\"h\",\"\").replace(\"hours\",\"\").strip())\n",
    "    except:\n",
    "        return np.nan\n",
    "\n",
    "# Apply in place\n",
    "df[\"phone_hrs\"] = df[\"phone_hrs\"].apply(parse_time_string)\n"
   ]
  },
  {
   "cell_type": "code",
   "execution_count": 78,
   "id": "f7cbc018",
   "metadata": {},
   "outputs": [],
   "source": [
    "df[\"music_genre\"] = phone_df[\"music_genre\"]\n"
   ]
  },
  {
   "cell_type": "code",
   "execution_count": 187,
   "id": "8e440a56",
   "metadata": {},
   "outputs": [
    {
     "data": {
      "text/plain": [
       "music_genre\n",
       "Pop                                                                       18\n",
       "Other                                                                     13\n",
       "Rock                                                                      11\n",
       "R&B                                                                        9\n",
       "Country                                                                    8\n",
       "Alternative                                                                8\n",
       "Rap                                                                        4\n",
       "EDM                                                                        4\n",
       "Hip-Hop                                                                    3\n",
       "Jazz                                                                       3\n",
       "[EDM, Other]                                                               1\n",
       "[Rap, R&B]                                                                 1\n",
       "[Rap, Rock]                                                                1\n",
       "[Rock, Other]                                                              1\n",
       "[Pop, R&B, Alternative, Rap, EDM, Hip-Hop, Jazz, Rock, Other]              1\n",
       "[Rock, Pop]                                                                1\n",
       "[Pop, R&B, Country, Alternative, Rap, EDM, Hip-Hop, Jazz, Rock, Other]     1\n",
       "[Other, Pop]                                                               1\n",
       "Name: count, dtype: int64"
      ]
     },
     "execution_count": 187,
     "metadata": {},
     "output_type": "execute_result"
    }
   ],
   "source": [
    "df[\"music_genre\"].value_counts()"
   ]
  },
  {
   "cell_type": "code",
   "execution_count": null,
   "id": "e88a69c8",
   "metadata": {},
   "outputs": [],
   "source": [
    "#Bluegrass, Regga, Instrumental, 80s Music, Hardcore/punk, Afrobeats to Other"
   ]
  },
  {
   "cell_type": "code",
   "execution_count": 185,
   "id": "94f2177e",
   "metadata": {},
   "outputs": [],
   "source": [
    "df['music_genre'].replace('Classical piano music and pop music ', '[Other, Pop]', inplace=True)"
   ]
  },
  {
   "cell_type": "code",
   "execution_count": 189,
   "id": "6ab2fe07",
   "metadata": {},
   "outputs": [
    {
     "data": {
      "text/plain": [
       "18"
      ]
     },
     "execution_count": 189,
     "metadata": {},
     "output_type": "execute_result"
    }
   ],
   "source": [
    "df['music_genre'].nunique()"
   ]
  },
  {
   "cell_type": "code",
   "execution_count": 188,
   "id": "7b837618",
   "metadata": {},
   "outputs": [],
   "source": [
    "df.to_csv('music_cleaned.csv', index=False)"
   ]
  },
  {
   "cell_type": "code",
   "execution_count": 190,
   "id": "b380e0e5",
   "metadata": {},
   "outputs": [
    {
     "data": {
      "text/plain": [
       "Index(['Timestamp', 'phone_type', 'undergrad_major', 'num_cups', 'sleep_hrs',\n",
       "       'fav_sports', 'ds_skills', 'outdoor_hrs', 'ai_tools_use', 'ideal_temp',\n",
       "       'phone_hrs', 'music_while_studying', 'music_genre', 'num_states',\n",
       "       'fav_season', 'study_env', 'summer_desc', 'general_area_of_study',\n",
       "       'class_session', 'min_num_cups', 'max_num_cups', 'avg_num_cups',\n",
       "       'min_sleep_hrs', 'max_sleep_hrs', 'avg_sleep_hrs'],\n",
       "      dtype='object')"
      ]
     },
     "execution_count": 190,
     "metadata": {},
     "output_type": "execute_result"
    }
   ],
   "source": [
    "df.columns"
   ]
  },
  {
   "cell_type": "code",
   "execution_count": 239,
   "id": "bc30547c",
   "metadata": {},
   "outputs": [
    {
     "data": {
      "text/plain": [
       "study_env\n",
       "Library                                                      33\n",
       "Home                                                         25\n",
       "Coffee Shop                                                  13\n",
       "[Coffee Shop, Library]                                        4\n",
       "Outdoors                                                      3\n",
       "[Academic Building, Home, Library, Coffee Shop]               3\n",
       "[Coffee Shop, Home]                                           2\n",
       "Academic Building                                             2\n",
       "[Academic Building, Outdoors, Library, Coffee Shop]           1\n",
       "[Library, Academic Building]                                  1\n",
       "[Library, Home]                                               1\n",
       "[Academic Building, Home, Outdoors, Library, Coffee Shop]     1\n",
       "[Academic Building, Home]                                     1\n",
       "Name: count, dtype: int64"
      ]
     },
     "execution_count": 239,
     "metadata": {},
     "output_type": "execute_result"
    }
   ],
   "source": [
    "df[\"study_env\"].value_counts()"
   ]
  },
  {
   "cell_type": "code",
   "execution_count": 238,
   "id": "c2d5f99f",
   "metadata": {},
   "outputs": [
    {
     "name": "stderr",
     "output_type": "stream",
     "text": [
      "C:\\Users\\school\\AppData\\Local\\Temp\\ipykernel_28500\\3842933957.py:1: FutureWarning: A value is trying to be set on a copy of a DataFrame or Series through chained assignment using an inplace method.\n",
      "The behavior will change in pandas 3.0. This inplace method will never work because the intermediate object on which we are setting values always behaves as a copy.\n",
      "\n",
      "For example, when doing 'df[col].method(value, inplace=True)', try using 'df.method({col: value}, inplace=True)' or df[col] = df[col].method(value) instead, to perform the operation inplace on the original object.\n",
      "\n",
      "\n",
      "  df['study_env'].replace('quiet, indoors, sunny', '[Academic Building, Home, Library, Coffee Shop]', inplace=True)\n"
     ]
    }
   ],
   "source": [
    "df['study_env'].replace('quiet, indoors, sunny', '[Academic Building, Home, Library, Coffee Shop]', inplace=True)"
   ]
  },
  {
   "cell_type": "code",
   "execution_count": 196,
   "id": "d1cd7880",
   "metadata": {},
   "outputs": [
    {
     "name": "stdout",
     "output_type": "stream",
     "text": [
      "study_env\n",
      "Library                                                             33\n",
      "Home                                                                25\n",
      "Coffee Shop                                                         13\n",
      "Outdoors                                                             2\n",
      "Anywhere other than my house                                         1\n",
      "coffee shop or my apartment                                          1\n",
      "Indoor by the window when it’s raining outside                       1\n",
      "Coffee shop or library                                               1\n",
      "Academic Building                                                    1\n",
      "Good chair                                                           1\n",
      "Student health                                                       1\n",
      "Library or reading rooms                                             1\n",
      "my room or the library                                               1\n",
      "coffee shop or library                                               1\n",
      "All! Depends on health/wellness needs                                1\n",
      "Backyard                                                             1\n",
      "Library or coffee shop                                               1\n",
      "Coffee shop or library - outdoors is hard to see a laptop screen     1\n",
      "Room or coffee shop                                                  1\n",
      "quiet, indoors, sunny                                                1\n",
      "My own apartment or somewhere quiet on campus                        1\n",
      "Name: count, dtype: int64\n"
     ]
    }
   ],
   "source": [
    "import re\n",
    "\n",
    "def clean_study_env(value):\n",
    "    v = str(value).strip()\n",
    "\n",
    "    # Leave \"or\" cases as they are\n",
    "    if re.search(r'\\bor\\b', v, flags=re.IGNORECASE):\n",
    "        return v\n",
    "\n",
    "    # Library\n",
    "    if \"library\" in v.lower():\n",
    "        return \"Library\"\n",
    "\n",
    "    # Coffee shop / cafe\n",
    "    if \"coffee shop\" in v.lower() or \"cafe\" in v.lower():\n",
    "        return \"Coffee Shop\"\n",
    "\n",
    "    # Special exception\n",
    "    if \"anywhere other than my house\" in v.lower():\n",
    "        return v\n",
    "\n",
    "    # Home / dorm / house / apartment / room / desk / office\n",
    "    if any(word in v.lower() for word in [\"dorm\", \"home\", \"house\", \"apartment\", \"room\", \"desk\", \"office\"]):\n",
    "        return \"Home\"\n",
    "\n",
    "    return v\n",
    "\n",
    "# Apply cleaning\n",
    "df[\"study_env\"] = df[\"study_env\"].apply(clean_study_env)\n",
    "\n",
    "# Check cleaned unique values\n",
    "print(df[\"study_env\"].value_counts())\n"
   ]
  },
  {
   "cell_type": "code",
   "execution_count": 240,
   "id": "12b21e65",
   "metadata": {},
   "outputs": [],
   "source": [
    "df.to_csv('study_cleaned.csv', index=False)"
   ]
  }
 ],
 "metadata": {
  "kernelspec": {
   "display_name": "ds6001",
   "language": "python",
   "name": "python3"
  },
  "language_info": {
   "codemirror_mode": {
    "name": "ipython",
    "version": 3
   },
   "file_extension": ".py",
   "mimetype": "text/x-python",
   "name": "python",
   "nbconvert_exporter": "python",
   "pygments_lexer": "ipython3",
   "version": "3.13.5"
  }
 },
 "nbformat": 4,
 "nbformat_minor": 5
}
